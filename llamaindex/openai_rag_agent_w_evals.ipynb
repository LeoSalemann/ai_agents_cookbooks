{
 "cells": [
  {
   "cell_type": "markdown",
   "metadata": {},
   "source": [
    "# OpenAI Agent with LlamaIndex\n",
    "\n",
    "## Install Dependencies"
   ]
  },
  {
   "cell_type": "code",
   "execution_count": 1,
   "metadata": {},
   "outputs": [
    {
     "name": "stdout",
     "output_type": "stream",
     "text": [
      "Requirement already satisfied: uv in /usr/local/python/3.12.1/lib/python3.12/site-packages (0.5.24)\n"
     ]
    }
   ],
   "source": [
    "!pip install uv\n",
    "!uv pip install --system -qU llama-index==0.11.6 llama-index-llms-openai llama-index-readers-file llama-index-embeddings-openai llama-index-llms-openai-like \"openinference-instrumentation-llama-index>=2\" arize-phoenix python-dotenv"
   ]
  },
  {
   "cell_type": "markdown",
   "metadata": {},
   "source": [
    "## Setup API Keys\n",
    "To run the rest of the notebook you will need access to an OctoAI API key. You can sign up for an account [here](https://octoai.cloud/). If you need further guidance you can check OctoAI's [documentation page](https://octo.ai/docs/getting-started/how-to-create-octoai-access-token)."
   ]
  },
  {
   "cell_type": "code",
   "execution_count": 2,
   "metadata": {},
   "outputs": [],
   "source": [
    "from os import environ\n",
    "from dotenv import load_dotenv\n",
    "\n",
    "load_dotenv()\n",
    "\n",
    "OPENAI_API_KEY = environ[\"OPENAI_API_KEY\"]"
   ]
  },
  {
   "cell_type": "markdown",
   "metadata": {},
   "source": [
    "## Import libraries and setup LlamaIndex"
   ]
  },
  {
   "cell_type": "code",
   "execution_count": 3,
   "metadata": {},
   "outputs": [],
   "source": [
    "from llama_index.core import (\n",
    "    SimpleDirectoryReader,\n",
    "    VectorStoreIndex,\n",
    "    StorageContext,\n",
    "    load_index_from_storage,\n",
    ")\n",
    "from llama_index.core.tools import QueryEngineTool, ToolMetadata\n",
    "from llama_index.core.agent import ReActAgent\n",
    "from llama_index.llms.openai import OpenAI\n",
    "\n",
    "\n",
    "# Create an llm object to use for the QueryEngine and the ReActAgent\n",
    "llm = OpenAI(model=\"gpt-4\")"
   ]
  },
  {
   "cell_type": "markdown",
   "metadata": {},
   "source": [
    "# Set up Phoenix"
   ]
  },
  {
   "cell_type": "code",
   "execution_count": 4,
   "metadata": {},
   "outputs": [
    {
     "name": "stderr",
     "output_type": "stream",
     "text": [
      "/usr/local/python/3.12.1/lib/python3.12/site-packages/tqdm/auto.py:21: TqdmWarning: IProgress not found. Please update jupyter and ipywidgets. See https://ipywidgets.readthedocs.io/en/stable/user_install.html\n",
      "  from .autonotebook import tqdm as notebook_tqdm\n"
     ]
    },
    {
     "name": "stdout",
     "output_type": "stream",
     "text": [
      "🌍 To view the Phoenix app in your browser, visit http://localhost:6006/\n",
      "📖 For more information on how to use Phoenix, check out https://docs.arize.com/phoenix\n"
     ]
    }
   ],
   "source": [
    "import phoenix as px\n",
    "session = px.launch_app()"
   ]
  },
  {
   "cell_type": "code",
   "execution_count": 5,
   "metadata": {},
   "outputs": [
    {
     "name": "stdout",
     "output_type": "stream",
     "text": [
      "🔭 OpenTelemetry Tracing Details 🔭\n",
      "|  Phoenix Project: default\n",
      "|  Span Processor: SimpleSpanProcessor\n",
      "|  Collector Endpoint: localhost:4317\n",
      "|  Transport: gRPC\n",
      "|  Transport Headers: {'user-agent': '****'}\n",
      "|  \n",
      "|  Using a default SpanProcessor. `add_span_processor` will overwrite this default.\n",
      "|  \n",
      "|  `register` has set this TracerProvider as the global OpenTelemetry default.\n",
      "|  To disable this behavior, call `register` with `set_global_tracer_provider=False`.\n",
      "\n"
     ]
    }
   ],
   "source": [
    "from openinference.instrumentation.llama_index import LlamaIndexInstrumentor\n",
    "from phoenix.otel import register\n",
    "\n",
    "tracer_provider = register()\n",
    "LlamaIndexInstrumentor().instrument(tracer_provider=tracer_provider)"
   ]
  },
  {
   "cell_type": "markdown",
   "metadata": {},
   "source": [
    "## Load Documents"
   ]
  },
  {
   "cell_type": "code",
   "execution_count": 6,
   "metadata": {},
   "outputs": [
    {
     "data": {
      "text/plain": [
       "'\\n10ktry:\\n    storage_context = StorageContext.from_defaults(\\n        persist_dir=\"./storage/lyft\"\\n    )\\n    lyft_index = load_index_from_storage(storage_context)\\n\\n    storage_context = StorageContext.from_defaults(\\n        persist_dir=\"./storage/uber\"\\n    )\\n    uber_index = load_index_from_storage(storage_context)\\n\\n    index_loaded = True\\nexcept:\\n    index_loaded = False\\n'"
      ]
     },
     "execution_count": 6,
     "metadata": {},
     "output_type": "execute_result"
    }
   ],
   "source": [
    "'''\n",
    "10ktry:\n",
    "    storage_context = StorageContext.from_defaults(\n",
    "        persist_dir=\"./storage/lyft\"\n",
    "    )\n",
    "    lyft_index = load_index_from_storage(storage_context)\n",
    "\n",
    "    storage_context = StorageContext.from_defaults(\n",
    "        persist_dir=\"./storage/uber\"\n",
    "    )\n",
    "    uber_index = load_index_from_storage(storage_context)\n",
    "\n",
    "    index_loaded = True\n",
    "except:\n",
    "    index_loaded = False\n",
    "'''"
   ]
  },
  {
   "cell_type": "code",
   "execution_count": 7,
   "metadata": {},
   "outputs": [],
   "source": [
    "try:\n",
    "    storage_context = StorageContext.from_defaults(\n",
    "        persist_dir=\"./storage/p2025\"\n",
    "    )\n",
    "    p2025_index = load_index_from_storage(storage_context)\n",
    "\n",
    "    storage_context = StorageContext.from_defaults(\n",
    "        persist_dir=\"./storage/eo\"\n",
    "    )\n",
    "    eo_index = load_index_from_storage(storage_context)\n",
    "\n",
    "    index_loaded = True\n",
    "except:\n",
    "    index_loaded = False"
   ]
  },
  {
   "cell_type": "markdown",
   "metadata": {},
   "source": [
    "This is the point we create our vector indexes, by calculating the embedding vectors for each of the chunks. You only need to run this once."
   ]
  },
  {
   "cell_type": "code",
   "execution_count": 8,
   "metadata": {},
   "outputs": [
    {
     "data": {
      "text/plain": [
       "'\\nif not index_loaded:\\n    # load data\\n    lyft_docs = SimpleDirectoryReader(\\n        input_files=[\"./10k/lyft_2021.pdf\"]\\n    ).load_data()\\n    uber_docs = SimpleDirectoryReader(\\n        input_files=[\"./10k/uber_2021.pdf\"]\\n    ).load_data()\\n\\n    # build index\\n    lyft_index = VectorStoreIndex.from_documents(lyft_docs, show_progress=True)\\n    uber_index = VectorStoreIndex.from_documents(uber_docs, swow_progress=True)\\n\\n    # persist index\\n    lyft_index.storage_context.persist(persist_dir=\"./storage/lyft\")\\n    uber_index.storage_context.persist(persist_dir=\"./storage/uber\")\\n\\n'"
      ]
     },
     "execution_count": 8,
     "metadata": {},
     "output_type": "execute_result"
    }
   ],
   "source": [
    "'''\n",
    "if not index_loaded:\n",
    "    # load data\n",
    "    lyft_docs = SimpleDirectoryReader(\n",
    "        input_files=[\"./10k/lyft_2021.pdf\"]\n",
    "    ).load_data()\n",
    "    uber_docs = SimpleDirectoryReader(\n",
    "        input_files=[\"./10k/uber_2021.pdf\"]\n",
    "    ).load_data()\n",
    "\n",
    "    # build index\n",
    "    lyft_index = VectorStoreIndex.from_documents(lyft_docs, show_progress=True)\n",
    "    uber_index = VectorStoreIndex.from_documents(uber_docs, swow_progress=True)\n",
    "\n",
    "    # persist index\n",
    "    lyft_index.storage_context.persist(persist_dir=\"./storage/lyft\")\n",
    "    uber_index.storage_context.persist(persist_dir=\"./storage/uber\")\n",
    "\n",
    "'''"
   ]
  },
  {
   "cell_type": "code",
   "execution_count": 9,
   "metadata": {},
   "outputs": [],
   "source": [
    "if not index_loaded:\n",
    "    # load data\n",
    "    p2025_docs = SimpleDirectoryReader(\n",
    "        input_files=[\"./p2025/2025_MandateForLeadership_FULL.pdf\"]\n",
    "    ).load_data()\n",
    "    \n",
    "    '''\n",
    "    eo_docs = SimpleDirectoryReader(\n",
    "        input_files=[\"./eo/enforcing-the-hyde-amendment.pdf\"]\n",
    "    ).load_data()\n",
    "    '''\n",
    "    eo_docs = SimpleDirectoryReader(\n",
    "        input_dir=\"./eo\"\n",
    "    ).load_data()\n",
    "\n",
    "    # build index\n",
    "    p2025_index = VectorStoreIndex.from_documents(p2025_docs, show_progress=True)\n",
    "    eo_index = VectorStoreIndex.from_documents(eo_docs, show_progress=True)\n",
    "\n",
    "    # persist index\n",
    "    p2025_index.storage_context.persist(persist_dir=\"./storage/p2025\")\n",
    "    eo_index.storage_context.persist(persist_dir=\"./storage/eo\")"
   ]
  },
  {
   "cell_type": "markdown",
   "metadata": {},
   "source": [
    "Now create the query engines."
   ]
  },
  {
   "cell_type": "code",
   "execution_count": 10,
   "metadata": {},
   "outputs": [
    {
     "data": {
      "text/plain": [
       "'\\nlyft_engine = lyft_index.as_query_engine(similarity_top_k=3, llm=llm)\\nuber_engine = uber_index.as_query_engine(similarity_top_k=3, llm=llm)\\n'"
      ]
     },
     "execution_count": 10,
     "metadata": {},
     "output_type": "execute_result"
    }
   ],
   "source": [
    "'''\n",
    "lyft_engine = lyft_index.as_query_engine(similarity_top_k=3, llm=llm)\n",
    "uber_engine = uber_index.as_query_engine(similarity_top_k=3, llm=llm)\n",
    "'''"
   ]
  },
  {
   "cell_type": "code",
   "execution_count": 11,
   "metadata": {},
   "outputs": [],
   "source": [
    "p2025_engine = p2025_index.as_query_engine(similarity_top_k=3, llm=llm)\n",
    "eo_engine = eo_index.as_query_engine(similarity_top_k=3, llm=llm)"
   ]
  },
  {
   "cell_type": "markdown",
   "metadata": {},
   "source": [
    "We can now define the query engines as tools that will be used by the agent.\n",
    "\n",
    "As there is a query engine per document we need to also define one tool for each of them."
   ]
  },
  {
   "cell_type": "code",
   "execution_count": 12,
   "metadata": {},
   "outputs": [
    {
     "data": {
      "text/plain": [
       "'\\n\\nquery_engine_tools = [\\n    QueryEngineTool(\\n        query_engine=lyft_engine,\\n        metadata=ToolMetadata(\\n            name=\"lyft_10k\",\\n            description=(\\n                \"Provides information about Lyft financials for year 2021. \"\\n                \"Use a detailed plain text question as input to the tool.\"\\n            ),\\n        ),\\n    ),\\n    QueryEngineTool(\\n        query_engine=uber_engine,\\n        metadata=ToolMetadata(\\n            name=\"uber_10k\",\\n            description=(\\n                \"Provides information about Uber financials for year 2021. \"\\n                \"Use a detailed plain text question as input to the tool.\"\\n            ),\\n        ),\\n    ),\\n]\\n\\n'"
      ]
     },
     "execution_count": 12,
     "metadata": {},
     "output_type": "execute_result"
    }
   ],
   "source": [
    "'''\n",
    "\n",
    "query_engine_tools = [\n",
    "    QueryEngineTool(\n",
    "        query_engine=lyft_engine,\n",
    "        metadata=ToolMetadata(\n",
    "            name=\"lyft_10k\",\n",
    "            description=(\n",
    "                \"Provides information about Lyft financials for year 2021. \"\n",
    "                \"Use a detailed plain text question as input to the tool.\"\n",
    "            ),\n",
    "        ),\n",
    "    ),\n",
    "    QueryEngineTool(\n",
    "        query_engine=uber_engine,\n",
    "        metadata=ToolMetadata(\n",
    "            name=\"uber_10k\",\n",
    "            description=(\n",
    "                \"Provides information about Uber financials for year 2021. \"\n",
    "                \"Use a detailed plain text question as input to the tool.\"\n",
    "            ),\n",
    "        ),\n",
    "    ),\n",
    "]\n",
    "\n",
    "'''"
   ]
  },
  {
   "cell_type": "code",
   "execution_count": 13,
   "metadata": {},
   "outputs": [],
   "source": [
    "query_engine_tools = [\n",
    "    QueryEngineTool(\n",
    "        query_engine=eo_engine,\n",
    "        metadata=ToolMetadata(\n",
    "            name=\"eo\",\n",
    "            description=(\n",
    "                \"A collection of presidential presidential actions.\"\n",
    "                \"Use a detailed plain text question as input to the tool.\"\n",
    "            ),\n",
    "        ),\n",
    "    ),\n",
    "    QueryEngineTool(\n",
    "        query_engine=p2025_engine,\n",
    "        metadata=ToolMetadata(\n",
    "            name=\"p2025\",\n",
    "            description=(\n",
    "                \"Provides information about Project 2025.\"\n",
    "                \"Use a detailed plain text question as input to the tool.\"\n",
    "            ),\n",
    "        ),\n",
    "    ),\n",
    "]"
   ]
  },
  {
   "cell_type": "markdown",
   "metadata": {},
   "source": [
    "## Creating the Agent\n",
    "Now we have all the elements to create a LlamaIndex ReactAgent"
   ]
  },
  {
   "cell_type": "code",
   "execution_count": 14,
   "metadata": {},
   "outputs": [],
   "source": [
    "agent = ReActAgent.from_tools(\n",
    "    query_engine_tools,\n",
    "    llm=llm,\n",
    "    verbose=True,\n",
    "    max_turns=10,\n",
    ")"
   ]
  },
  {
   "cell_type": "markdown",
   "metadata": {},
   "source": [
    "Now we can interact with the agent and ask a question."
   ]
  },
  {
   "cell_type": "code",
   "execution_count": 15,
   "metadata": {},
   "outputs": [
    {
     "data": {
      "text/plain": [
       "'\\n\\nresponse = agent.chat(\"Who had more profit in 2021, Lyft or Uber?\")\\nprint(str(response))\\n\\n'"
      ]
     },
     "execution_count": 15,
     "metadata": {},
     "output_type": "execute_result"
    }
   ],
   "source": [
    "'''\n",
    "\n",
    "response = agent.chat(\"Who had more profit in 2021, Lyft or Uber?\")\n",
    "print(str(response))\n",
    "\n",
    "'''"
   ]
  },
  {
   "cell_type": "code",
   "execution_count": 16,
   "metadata": {},
   "outputs": [
    {
     "data": {
      "text/plain": [
       "'\\nresponse = agent.chat(\"Identify any sections of the Project 2025 that are supported by the presidential action to enforce the Hyde Amendment.                       Provide your answer in the form of Section Name, Chapter Name, and Page Number.\")\\nprint(str(response))\\n\\n'"
      ]
     },
     "execution_count": 16,
     "metadata": {},
     "output_type": "execute_result"
    }
   ],
   "source": [
    "\n",
    "'''\n",
    "response = agent.chat(\"Identify any sections of the Project 2025 that are supported by the presidential action to enforce the Hyde Amendment. \\\n",
    "                      Provide your answer in the form of Section Name, Chapter Name, and Page Number.\")\n",
    "print(str(response))\n",
    "\n",
    "'''"
   ]
  },
  {
   "cell_type": "code",
   "execution_count": 17,
   "metadata": {},
   "outputs": [
    {
     "name": "stdout",
     "output_type": "stream",
     "text": [
      "> Running step d7bbd871-2544-436e-b271-4d6a99cbfc6e. Step input: Identify any sections of the Project 2025 that are supported by the presidential action to enforce the Hyde Amendment.\n",
      "\u001b[1;3;38;5;200mThought: The user is asking for sections of Project 2025 that are supported by the presidential action to enforce the Hyde Amendment. I need to first understand what the Hyde Amendment is and how it is enforced by presidential action. Then, I need to find out if any sections of Project 2025 are supported by this action. I'll use the eo tool to get information about the presidential action related to the Hyde Amendment.\n",
      "Action: eo\n",
      "Action Input: {'input': 'What is the presidential action to enforce the Hyde Amendment?'}\n",
      "\u001b[0m\u001b[1;3;34mObservation: The presidential action to enforce the Hyde Amendment is an executive order issued on January 24, 2025. This order aims to end the forced use of Federal taxpayer dollars to fund or promote elective abortion, consistent with the Hyde Amendment. It also revokes Executive Orders 14076 of July 8, 2022, and 14079 of August 3, 2022. The Director of the Office of Management and Budget is tasked with providing guidance to the heads of executive departments and agencies related to the implementation of this order.\n",
      "\u001b[0m> Running step 63dee1d6-c93b-47ab-ab13-d5846c937b33. Step input: None\n",
      "\u001b[1;3;38;5;200mThought: Now that I have information about the presidential action to enforce the Hyde Amendment, I need to find out if any sections of Project 2025 are supported by this action. I'll use the p2025 tool to get information about Project 2025.\n",
      "Action: p2025\n",
      "Action Input: {'input': 'What are the sections of Project 2025?'}\n",
      "\u001b[0m\u001b[1;3;34mObservation: Project 2025 is built on four pillars. Pillar I is a volume that provides a consensus view of how major federal agencies must be governed. Pillar II is a personnel database that allows candidates to build their own professional profiles and coalition members to review and voice their recommendations. Pillar III is the Presidential Administration Academy, an online educational system taught by experts from the coalition. Pillar IV, also known as the Playbook, involves forming agency teams and drafting transition plans.\n",
      "\u001b[0m> Running step 26a16b46-3039-4385-91a6-f596ebddf8a7. Step input: None\n",
      "\u001b[1;3;38;5;200mThought: I have information about the four pillars of Project 2025. However, none of these pillars seem to directly relate to the Hyde Amendment or the presidential action to enforce it. The Hyde Amendment is about preventing federal funds from being used for elective abortions, while Project 2025 is about governance, personnel databases, education, and transition plans. Therefore, it doesn't seem like any sections of Project 2025 are supported by the presidential action to enforce the Hyde Amendment.\n",
      "Answer: None of the sections of Project 2025 appear to be directly supported by the presidential action to enforce the Hyde Amendment. The Hyde Amendment and its enforcement through presidential action primarily concern the use of federal funds for elective abortions. On the other hand, Project 2025 focuses on federal agency governance, personnel databases, education, and transition plans. These topics do not seem to intersect with the Hyde Amendment or its enforcement.\n",
      "\u001b[0mNone of the sections of Project 2025 appear to be directly supported by the presidential action to enforce the Hyde Amendment. The Hyde Amendment and its enforcement through presidential action primarily concern the use of federal funds for elective abortions. On the other hand, Project 2025 focuses on federal agency governance, personnel databases, education, and transition plans. These topics do not seem to intersect with the Hyde Amendment or its enforcement.\n"
     ]
    }
   ],
   "source": [
    "response = agent.chat(\"Identify any sections of the Project 2025 that are supported by the presidential action to enforce the Hyde Amendment.\")\n",
    "print(str(response))"
   ]
  },
  {
   "cell_type": "code",
   "execution_count": 18,
   "metadata": {},
   "outputs": [
    {
     "name": "stdout",
     "output_type": "stream",
     "text": [
      "> Running step 4c765f2a-f5c7-450f-b96d-a5647b695298. Step input: Identify any sections of the Project 2025 that are supported by the presidential action to remove barriers to american leadership in artificial intelligence.\n",
      "\u001b[1;3;38;5;200mThought: The current language of the user is: English. I need to use a tool to help me answer the question.\n",
      "Action: p2025\n",
      "Action Input: {'input': 'What sections of Project 2025 are supported by the presidential action to remove barriers to American leadership in artificial intelligence?'}\n",
      "\u001b[0m\u001b[1;3;34mObservation: The sections of Project 2025 that are supported by the presidential action to remove barriers to American leadership in artificial intelligence include the mandate to better exploit publicly available information (PAI) data and foster innovation to improve collection and analysis, with a specific emphasis on ending the practice of multiple DIE organizations paying for the same PAI data and investing more in machine learning and artificial intelligence. Additionally, the project encourages the development of statistical discrimination techniques to deal with the volume and velocity of available data and information. The Intelligence Advanced Research Projects Activity (IARPA) and S&T are also advised to focus on challenging technology problems, including artificial intelligence research. Lastly, the project suggests transitioning to using technology, including tools and services for managing Big Data and artificial intelligence/machine learning, to enable machine interpretation of unstructured text and data, apply decision support technology, and expedite reviews between agencies.\n",
      "\u001b[0m> Running step 02fe0a14-650f-4bf5-ad0e-5d951df4f015. Step input: None\n",
      "\u001b[1;3;38;5;200mThought: I can answer without using any more tools. I'll use the user's language to answer\n",
      "Answer: The sections of Project 2025 that are supported by the presidential action to remove barriers to American leadership in artificial intelligence include:\n",
      "\n",
      "1. The mandate to better exploit publicly available information (PAI) data and foster innovation to improve collection and analysis. This includes ending the practice of multiple DIE organizations paying for the same PAI data and investing more in machine learning and artificial intelligence.\n",
      "\n",
      "2. The encouragement of the development of statistical discrimination techniques to deal with the volume and velocity of available data and information.\n",
      "\n",
      "3. The advice for the Intelligence Advanced Research Projects Activity (IARPA) and S&T to focus on challenging technology problems, including artificial intelligence research.\n",
      "\n",
      "4. The suggestion to transition to using technology, including tools and services for managing Big Data and artificial intelligence/machine learning. This would enable machine interpretation of unstructured text and data, apply decision support technology, and expedite reviews between agencies.\n",
      "\u001b[0mThe sections of Project 2025 that are supported by the presidential action to remove barriers to American leadership in artificial intelligence include:\n",
      "\n",
      "1. The mandate to better exploit publicly available information (PAI) data and foster innovation to improve collection and analysis. This includes ending the practice of multiple DIE organizations paying for the same PAI data and investing more in machine learning and artificial intelligence.\n",
      "\n",
      "2. The encouragement of the development of statistical discrimination techniques to deal with the volume and velocity of available data and information.\n",
      "\n",
      "3. The advice for the Intelligence Advanced Research Projects Activity (IARPA) and S&T to focus on challenging technology problems, including artificial intelligence research.\n",
      "\n",
      "4. The suggestion to transition to using technology, including tools and services for managing Big Data and artificial intelligence/machine learning. This would enable machine interpretation of unstructured text and data, apply decision support technology, and expedite reviews between agencies.\n"
     ]
    }
   ],
   "source": [
    "response = agent.chat(\"Identify any sections of the Project 2025 that are supported by the presidential action to remove barriers to american leadership in artificial intelligence.\")\n",
    "print(str(response))"
   ]
  },
  {
   "cell_type": "markdown",
   "metadata": {},
   "source": [
    "response = agent.chat(\"For each presidential action, provide a one-sentence description.\")\n",
    "print(str(response))"
   ]
  },
  {
   "cell_type": "code",
   "execution_count": 19,
   "metadata": {},
   "outputs": [
    {
     "name": "stdout",
     "output_type": "stream",
     "text": [
      "> Running step cc0d514b-5f73-4e45-905c-c12184153f25. Step input: For each presidential action, describe whether or not it aligns with the goals of Project 2025? Provide your answer as a list, with one sentence per presidential action.\n",
      "\u001b[1;3;38;5;200mThought: The user is asking for a summary of how each presidential action aligns with the goals of Project 2025. I need to use the 'eo' tool to get a list of all presidential actions, then I will use the 'p2025' tool to understand the goals of Project 2025. I will then compare each presidential action with the goals of Project 2025.\n",
      "Action: eo\n",
      "Action Input: {'input': 'List all presidential actions'}\n",
      "\u001b[0m\u001b[1;3;34mObservation: 1. The Department of Education action on May 02, 1980 by President Jimmy Carter. This action set the date for the provisions of the Department of Education Organization Act to take effect and directed the Director of the Office of Management and Budget to effectuate the transfers provided for in the Act.\n",
      "\n",
      "2. The Enforcing the Hyde Amendment action on January 24, 2025. This action aimed to end the forced use of Federal taxpayer dollars to fund or promote elective abortion, and revoked Executive Orders 14076 and 14079.\n",
      "\n",
      "3. The Removing Barriers to American Leadership in Artificial Intelligence action on January 23, 2025. This action aimed to sustain and enhance America’s global AI dominance by revoking certain existing AI policies and directives that act as barriers to American AI innovation.\n",
      "\u001b[0m> Running step e222f56d-c45e-4750-983e-5ea5762afdb8. Step input: None\n",
      "\u001b[1;3;38;5;200mThought: Now that I have the list of presidential actions, I need to understand the goals of Project 2025. I will use the 'p2025' tool for this.\n",
      "Action: p2025\n",
      "Action Input: {'input': 'What are the goals of Project 2025?'}\n",
      "\u001b[0m\u001b[1;3;34mObservation: Project 2025 aims to assemble a group of aligned, vetted, trained, and prepared conservatives to work towards deconstructing the Administrative State. The project is built on four pillars. Pillar I involves creating a consensus view of how major federal agencies should be governed. Pillar II is a personnel database that allows candidates to build their professional profiles and coalition members to review and voice their recommendations. Pillar III is the Presidential Administration Academy, an online educational system taught by experts from the coalition. Pillar IV, the Playbook, involves forming agency teams and drafting transition plans. The ultimate goal is to restore the Republic to its original moorings.\n",
      "\u001b[0m> Running step c4d7d2df-d1b9-4da5-a92e-606caf694ebc. Step input: None\n",
      "\u001b[1;3;38;5;200mThought: Now that I have the goals of Project 2025 and the list of presidential actions, I can compare each action with the goals of Project 2025 and provide a summary.\n",
      "Answer: 1. The Department of Education action on May 02, 1980 by President Jimmy Carter: This action does not align with the goals of Project 2025 as it predates the project and does not directly address the project's focus on deconstructing the Administrative State.\n",
      "\n",
      "2. The Enforcing the Hyde Amendment action on January 24, 2025: This action may align with the goals of Project 2025 in the sense that it represents a conservative policy stance, but it does not directly address the project's focus on deconstructing the Administrative State.\n",
      "\n",
      "3. The Removing Barriers to American Leadership in Artificial Intelligence action on January 23, 2025: This action aligns with the goals of Project 2025 as it promotes innovation and removes barriers, which could be seen as a step towards deconstructing the Administrative State.\n",
      "\u001b[0m"
     ]
    }
   ],
   "source": [
    "# response = agent.chat(\"Which presidential actions align with the goals of Project 2025?\")\n",
    "# response = agent.chat(\"For each presidential action, describe how it aligns with the goals of Project 2025?\")\n",
    "response = agent.chat(\"For each presidential action, describe whether or not it aligns with the goals of Project 2025? Provide your answer as a list, with one sentence per presidential action.\")\n",
    "\n"
   ]
  },
  {
   "cell_type": "code",
   "execution_count": 20,
   "metadata": {},
   "outputs": [
    {
     "name": "stdout",
     "output_type": "stream",
     "text": [
      "> Running step 77fee3c7-3965-4dae-87a0-a3b597b1d5f7. Step input: Which presidential action involves the Department of Education?\n",
      "\u001b[1;3;38;5;200mThought: The user is asking about a presidential action involving the Department of Education. I can use the 'eo' tool to find this information.\n",
      "Action: eo\n",
      "Action Input: {'input': 'Which presidential action involves the Department of Education?'}\n",
      "\u001b[0m\u001b[1;3;34mObservation: The presidential action that involves the Department of Education is the executive order issued on May 2, 1980. This order, authorized by the President under the Constitution and the statutes of the United States, includes the Department of Education Organization Act. It stipulates that the provisions of the Act would take effect on Sunday, May 4, 1980. The Director of the Office of Management and Budget was tasked with taking all necessary actions to effectuate the transfers provided for in the Act.\n",
      "\u001b[0m> Running step 75a66a9b-66ff-4ae9-945e-a98369f470f2. Step input: None\n",
      "\u001b[1;3;38;5;200mThought: I can answer without using any more tools. I'll use the user's language to answer\n",
      "Answer: The presidential action that involves the Department of Education is the executive order issued on May 2, 1980. This order, authorized by the President under the Constitution and the statutes of the United States, includes the Department of Education Organization Act. It stipulates that the provisions of the Act would take effect on Sunday, May 4, 1980. The Director of the Office of Management and Budget was tasked with taking all necessary actions to effectuate the transfers provided for in the Act.\n",
      "\u001b[0m"
     ]
    }
   ],
   "source": [
    "response = agent.chat(\"Which presidential action involves the Department of Education?\")\n"
   ]
  }
 ],
 "metadata": {
  "kernelspec": {
   "display_name": "Python 3",
   "language": "python",
   "name": "python3"
  },
  "language_info": {
   "codemirror_mode": {
    "name": "ipython",
    "version": 3
   },
   "file_extension": ".py",
   "mimetype": "text/x-python",
   "name": "python",
   "nbconvert_exporter": "python",
   "pygments_lexer": "ipython3",
   "version": "3.12.1"
  }
 },
 "nbformat": 4,
 "nbformat_minor": 2
}
